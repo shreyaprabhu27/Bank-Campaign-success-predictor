{
 "cells": [
  {
   "cell_type": "markdown",
   "metadata": {},
   "source": [
    "##### Note: Use python version 3.6.0\n",
    "#### Bank Marketing Campaign Success Predictor\n",
    "#### By - Shreya Prabhu Student Id: W1268563\n",
    "\n",
    "#### About the Project:\n",
    "The dataset used is related with direct marketing campaigns of a Portuguese banking institution. The marketing campaigns were basedprimarily on calls made via phone or landline(telephone). Often, more than one contact to the same client was required, in order to access if the product (bank term deposit) would be (or not) subscribed. This project aims to measure the success of the bank's marketing campaign by predict whether a customer will be subscribe for a product.\n",
    "<br>Data source: The data was extracted from the  UCI Machine learning repository:\n",
    "https://archive.ics.uci.edu/ml/datasets/Bank+Marketing"
   ]
  },
  {
   "cell_type": "code",
   "execution_count": 1,
   "metadata": {
    "collapsed": true
   },
   "outputs": [],
   "source": [
    "import os\n",
    "import io\n",
    "import numpy as np\n",
    "import pandas as pd\n",
    "import numpy as np\n",
    "import pandas as pd\n",
    "import sklearn\n",
    "import seaborn as sns"
   ]
  },
  {
   "cell_type": "markdown",
   "metadata": {},
   "source": [
    "### Loading the dataset and reading the raw input file which contains all the customer details"
   ]
  },
  {
   "cell_type": "code",
   "execution_count": 2,
   "metadata": {
    "collapsed": false,
    "scrolled": false
   },
   "outputs": [
    {
     "data": {
      "text/html": [
       "<div>\n",
       "<table border=\"1\" class=\"dataframe\">\n",
       "  <thead>\n",
       "    <tr style=\"text-align: right;\">\n",
       "      <th></th>\n",
       "      <th>age;\"job\";\"marital\";\"education\";\"default\";\"balance\";\"housing\";\"loan\";\"contact\";\"day\";\"month\";\"duration\";\"campaign\";\"pdays\";\"previous\";\"poutcome\";\"y\"</th>\n",
       "    </tr>\n",
       "  </thead>\n",
       "  <tbody>\n",
       "    <tr>\n",
       "      <th>0</th>\n",
       "      <td>58;\"management\";\"married\";\"tertiary\";\"no\";2143...</td>\n",
       "    </tr>\n",
       "    <tr>\n",
       "      <th>1</th>\n",
       "      <td>44;\"technician\";\"single\";\"secondary\";\"no\";29;\"...</td>\n",
       "    </tr>\n",
       "    <tr>\n",
       "      <th>2</th>\n",
       "      <td>33;\"entrepreneur\";\"married\";\"secondary\";\"no\";2...</td>\n",
       "    </tr>\n",
       "    <tr>\n",
       "      <th>3</th>\n",
       "      <td>47;\"blue-collar\";\"married\";\"unknown\";\"no\";1506...</td>\n",
       "    </tr>\n",
       "    <tr>\n",
       "      <th>4</th>\n",
       "      <td>33;\"unknown\";\"single\";\"unknown\";\"no\";1;\"no\";\"n...</td>\n",
       "    </tr>\n",
       "  </tbody>\n",
       "</table>\n",
       "</div>"
      ],
      "text/plain": [
       "  age;\"job\";\"marital\";\"education\";\"default\";\"balance\";\"housing\";\"loan\";\"contact\";\"day\";\"month\";\"duration\";\"campaign\";\"pdays\";\"previous\";\"poutcome\";\"y\"\n",
       "0  58;\"management\";\"married\";\"tertiary\";\"no\";2143...                                                                                                  \n",
       "1  44;\"technician\";\"single\";\"secondary\";\"no\";29;\"...                                                                                                  \n",
       "2  33;\"entrepreneur\";\"married\";\"secondary\";\"no\";2...                                                                                                  \n",
       "3  47;\"blue-collar\";\"married\";\"unknown\";\"no\";1506...                                                                                                  \n",
       "4  33;\"unknown\";\"single\";\"unknown\";\"no\";1;\"no\";\"n...                                                                                                  "
      ]
     },
     "execution_count": 2,
     "metadata": {},
     "output_type": "execute_result"
    }
   ],
   "source": [
    "df = pd.read_csv('bank-full.csv', header = 0)\n",
    "df.head()"
   ]
  },
  {
   "cell_type": "markdown",
   "metadata": {},
   "source": [
    "## Data Cleaning"
   ]
  },
  {
   "cell_type": "markdown",
   "metadata": {},
   "source": [
    "### Spliting the column with the delimiter \";\" "
   ]
  },
  {
   "cell_type": "code",
   "execution_count": 3,
   "metadata": {
    "collapsed": true
   },
   "outputs": [],
   "source": [
    "details = df['age;\"job\";\"marital\";\"education\";\"default\";\"balance\";\"housing\";\"loan\";\"contact\";\"day\";\"month\";\"duration\";\"campaign\";\"pdays\";\"previous\";\"poutcome\";\"y\"'].str.split(';', expand=True)"
   ]
  },
  {
   "cell_type": "code",
   "execution_count": 4,
   "metadata": {
    "collapsed": false
   },
   "outputs": [
    {
     "data": {
      "text/html": [
       "<div>\n",
       "<table border=\"1\" class=\"dataframe\">\n",
       "  <thead>\n",
       "    <tr style=\"text-align: right;\">\n",
       "      <th></th>\n",
       "      <th>0</th>\n",
       "      <th>1</th>\n",
       "      <th>2</th>\n",
       "      <th>3</th>\n",
       "      <th>4</th>\n",
       "      <th>5</th>\n",
       "      <th>6</th>\n",
       "      <th>7</th>\n",
       "      <th>8</th>\n",
       "      <th>9</th>\n",
       "      <th>10</th>\n",
       "      <th>11</th>\n",
       "      <th>12</th>\n",
       "      <th>13</th>\n",
       "      <th>14</th>\n",
       "      <th>15</th>\n",
       "      <th>16</th>\n",
       "    </tr>\n",
       "  </thead>\n",
       "  <tbody>\n",
       "    <tr>\n",
       "      <th>0</th>\n",
       "      <td>58</td>\n",
       "      <td>\"management\"</td>\n",
       "      <td>\"married\"</td>\n",
       "      <td>\"tertiary\"</td>\n",
       "      <td>\"no\"</td>\n",
       "      <td>2143</td>\n",
       "      <td>\"yes\"</td>\n",
       "      <td>\"no\"</td>\n",
       "      <td>\"unknown\"</td>\n",
       "      <td>5</td>\n",
       "      <td>\"may\"</td>\n",
       "      <td>261</td>\n",
       "      <td>1</td>\n",
       "      <td>-1</td>\n",
       "      <td>0</td>\n",
       "      <td>\"unknown\"</td>\n",
       "      <td>\"no\"</td>\n",
       "    </tr>\n",
       "    <tr>\n",
       "      <th>1</th>\n",
       "      <td>44</td>\n",
       "      <td>\"technician\"</td>\n",
       "      <td>\"single\"</td>\n",
       "      <td>\"secondary\"</td>\n",
       "      <td>\"no\"</td>\n",
       "      <td>29</td>\n",
       "      <td>\"yes\"</td>\n",
       "      <td>\"no\"</td>\n",
       "      <td>\"unknown\"</td>\n",
       "      <td>5</td>\n",
       "      <td>\"may\"</td>\n",
       "      <td>151</td>\n",
       "      <td>1</td>\n",
       "      <td>-1</td>\n",
       "      <td>0</td>\n",
       "      <td>\"unknown\"</td>\n",
       "      <td>\"no\"</td>\n",
       "    </tr>\n",
       "    <tr>\n",
       "      <th>2</th>\n",
       "      <td>33</td>\n",
       "      <td>\"entrepreneur\"</td>\n",
       "      <td>\"married\"</td>\n",
       "      <td>\"secondary\"</td>\n",
       "      <td>\"no\"</td>\n",
       "      <td>2</td>\n",
       "      <td>\"yes\"</td>\n",
       "      <td>\"yes\"</td>\n",
       "      <td>\"unknown\"</td>\n",
       "      <td>5</td>\n",
       "      <td>\"may\"</td>\n",
       "      <td>76</td>\n",
       "      <td>1</td>\n",
       "      <td>-1</td>\n",
       "      <td>0</td>\n",
       "      <td>\"unknown\"</td>\n",
       "      <td>\"no\"</td>\n",
       "    </tr>\n",
       "    <tr>\n",
       "      <th>3</th>\n",
       "      <td>47</td>\n",
       "      <td>\"blue-collar\"</td>\n",
       "      <td>\"married\"</td>\n",
       "      <td>\"unknown\"</td>\n",
       "      <td>\"no\"</td>\n",
       "      <td>1506</td>\n",
       "      <td>\"yes\"</td>\n",
       "      <td>\"no\"</td>\n",
       "      <td>\"unknown\"</td>\n",
       "      <td>5</td>\n",
       "      <td>\"may\"</td>\n",
       "      <td>92</td>\n",
       "      <td>1</td>\n",
       "      <td>-1</td>\n",
       "      <td>0</td>\n",
       "      <td>\"unknown\"</td>\n",
       "      <td>\"no\"</td>\n",
       "    </tr>\n",
       "    <tr>\n",
       "      <th>4</th>\n",
       "      <td>33</td>\n",
       "      <td>\"unknown\"</td>\n",
       "      <td>\"single\"</td>\n",
       "      <td>\"unknown\"</td>\n",
       "      <td>\"no\"</td>\n",
       "      <td>1</td>\n",
       "      <td>\"no\"</td>\n",
       "      <td>\"no\"</td>\n",
       "      <td>\"unknown\"</td>\n",
       "      <td>5</td>\n",
       "      <td>\"may\"</td>\n",
       "      <td>198</td>\n",
       "      <td>1</td>\n",
       "      <td>-1</td>\n",
       "      <td>0</td>\n",
       "      <td>\"unknown\"</td>\n",
       "      <td>\"no\"</td>\n",
       "    </tr>\n",
       "  </tbody>\n",
       "</table>\n",
       "</div>"
      ],
      "text/plain": [
       "   0               1          2            3     4     5      6      7   \\\n",
       "0  58    \"management\"  \"married\"   \"tertiary\"  \"no\"  2143  \"yes\"   \"no\"   \n",
       "1  44    \"technician\"   \"single\"  \"secondary\"  \"no\"    29  \"yes\"   \"no\"   \n",
       "2  33  \"entrepreneur\"  \"married\"  \"secondary\"  \"no\"     2  \"yes\"  \"yes\"   \n",
       "3  47   \"blue-collar\"  \"married\"    \"unknown\"  \"no\"  1506  \"yes\"   \"no\"   \n",
       "4  33       \"unknown\"   \"single\"    \"unknown\"  \"no\"     1   \"no\"   \"no\"   \n",
       "\n",
       "          8  9      10   11 12  13 14         15    16  \n",
       "0  \"unknown\"  5  \"may\"  261  1  -1  0  \"unknown\"  \"no\"  \n",
       "1  \"unknown\"  5  \"may\"  151  1  -1  0  \"unknown\"  \"no\"  \n",
       "2  \"unknown\"  5  \"may\"   76  1  -1  0  \"unknown\"  \"no\"  \n",
       "3  \"unknown\"  5  \"may\"   92  1  -1  0  \"unknown\"  \"no\"  \n",
       "4  \"unknown\"  5  \"may\"  198  1  -1  0  \"unknown\"  \"no\"  "
      ]
     },
     "execution_count": 4,
     "metadata": {},
     "output_type": "execute_result"
    }
   ],
   "source": [
    "details.head()"
   ]
  },
  {
   "cell_type": "markdown",
   "metadata": {
    "collapsed": true
   },
   "source": [
    "## Input variables: Renaming the columns with meaningful values\n",
    "   #### Bank client data:\n",
    "   0 - Age (numeric)\n",
    "   <br> 1 - Job Category:  type of job (Categorical: \"admin.\", \"unknown\", \"unemployed\", \"management\", \"housemaid\", \"entrepreneur\",      \"student\", \"blue-collar\",\"self-employed\",\"retired\",\"technician\",\"services\")\n",
    "    <br>2 - Marital Status : marital status (Categorical: \"married\",\"divorced\",\"single\"; note: \"divorced\" means divorced or widowed)\n",
    "   <br>3 - Education (Categorical: \"unknown\",\"secondary\",\"primary\",\"tertiary\")\n",
    "   <br>4 - Credt Default: if the person has credit in default? (Values: \"yes\",\"no\")\n",
    "   <br>5 - Balance[Euro]: Average Yearly Balance, in euros (numeric) \n",
    "   <br>6 - House Loan: Has the person taken a Housing Loan? (binary: \"yes\",\"no\")\n",
    "   <br>7 - loan: has personal loan? (binary: \"yes\",\"no\")\n",
    "   #### Related with the last contact of the current campaign:\n",
    "   8 - Contact: Contact communication type (Categorical: \"unknown\",\"telephone\",\"cellular\") \n",
    "   <br>9 - DayLastContact: Last contact day of the month (numeric)\n",
    "   <br>10 - MonLastContact: Last contact month of year (categorical: \"jan\", \"feb\", \"mar\", ..., \"nov\", \"dec\")\n",
    "   <br>11 - Duration(Sec): Duration of the Call in the last contact, in seconds (numeric)\n",
    "   #### Other attributes:\n",
    "  12 - No.of Contacts: Number of contacts performed during this campaign and for this client (numeric, includes last contact)\n",
    "  <br>13 - Passed Days: Number of days passed by after the client was last contacted from a previous campaign (numeric, -1 means client was not previously contacted)\n",
    "  #### Previous campaign attributes:\n",
    "  14 - No.ContactsBefore: Number of contacts performed before this campaign and for this client (numeric)\n",
    "  <br>15 - POutcome: outcome of the previous marketing campaign (categorical: \"unknown\",\"other\",\"failure\",\"success\")\n",
    "  <br>16 - Has the client subscribed a term deposit? (Values: \"yes\",\"no\")"
   ]
  },
  {
   "cell_type": "code",
   "execution_count": 5,
   "metadata": {
    "collapsed": true
   },
   "outputs": [],
   "source": [
    "details.columns = ['Age','Job_Category','Marital_Status','Education','Credit_Default','Balance[Euro]','House_Loan','Personal_Loan','Contact_Type','DayLastContact','MonLastContact','Duration(Sec)','No.ofContacts','Passed_Days','No.ContactsBefore','POutcome', 'Subscribed']"
   ]
  },
  {
   "cell_type": "code",
   "execution_count": 6,
   "metadata": {
    "collapsed": false
   },
   "outputs": [
    {
     "data": {
      "text/html": [
       "<div>\n",
       "<table border=\"1\" class=\"dataframe\">\n",
       "  <thead>\n",
       "    <tr style=\"text-align: right;\">\n",
       "      <th></th>\n",
       "      <th>Age</th>\n",
       "      <th>Job_Category</th>\n",
       "      <th>Marital_Status</th>\n",
       "      <th>Education</th>\n",
       "      <th>Credit_Default</th>\n",
       "      <th>Balance[Euro]</th>\n",
       "      <th>House_Loan</th>\n",
       "      <th>Personal_Loan</th>\n",
       "      <th>Contact_Type</th>\n",
       "      <th>DayLastContact</th>\n",
       "      <th>MonLastContact</th>\n",
       "      <th>Duration(Sec)</th>\n",
       "      <th>No.ofContacts</th>\n",
       "      <th>Passed_Days</th>\n",
       "      <th>No.ContactsBefore</th>\n",
       "      <th>POutcome</th>\n",
       "      <th>Subscribed</th>\n",
       "    </tr>\n",
       "  </thead>\n",
       "  <tbody>\n",
       "    <tr>\n",
       "      <th>0</th>\n",
       "      <td>58</td>\n",
       "      <td>\"management\"</td>\n",
       "      <td>\"married\"</td>\n",
       "      <td>\"tertiary\"</td>\n",
       "      <td>\"no\"</td>\n",
       "      <td>2143</td>\n",
       "      <td>\"yes\"</td>\n",
       "      <td>\"no\"</td>\n",
       "      <td>\"unknown\"</td>\n",
       "      <td>5</td>\n",
       "      <td>\"may\"</td>\n",
       "      <td>261</td>\n",
       "      <td>1</td>\n",
       "      <td>-1</td>\n",
       "      <td>0</td>\n",
       "      <td>\"unknown\"</td>\n",
       "      <td>\"no\"</td>\n",
       "    </tr>\n",
       "    <tr>\n",
       "      <th>1</th>\n",
       "      <td>44</td>\n",
       "      <td>\"technician\"</td>\n",
       "      <td>\"single\"</td>\n",
       "      <td>\"secondary\"</td>\n",
       "      <td>\"no\"</td>\n",
       "      <td>29</td>\n",
       "      <td>\"yes\"</td>\n",
       "      <td>\"no\"</td>\n",
       "      <td>\"unknown\"</td>\n",
       "      <td>5</td>\n",
       "      <td>\"may\"</td>\n",
       "      <td>151</td>\n",
       "      <td>1</td>\n",
       "      <td>-1</td>\n",
       "      <td>0</td>\n",
       "      <td>\"unknown\"</td>\n",
       "      <td>\"no\"</td>\n",
       "    </tr>\n",
       "    <tr>\n",
       "      <th>2</th>\n",
       "      <td>33</td>\n",
       "      <td>\"entrepreneur\"</td>\n",
       "      <td>\"married\"</td>\n",
       "      <td>\"secondary\"</td>\n",
       "      <td>\"no\"</td>\n",
       "      <td>2</td>\n",
       "      <td>\"yes\"</td>\n",
       "      <td>\"yes\"</td>\n",
       "      <td>\"unknown\"</td>\n",
       "      <td>5</td>\n",
       "      <td>\"may\"</td>\n",
       "      <td>76</td>\n",
       "      <td>1</td>\n",
       "      <td>-1</td>\n",
       "      <td>0</td>\n",
       "      <td>\"unknown\"</td>\n",
       "      <td>\"no\"</td>\n",
       "    </tr>\n",
       "    <tr>\n",
       "      <th>3</th>\n",
       "      <td>47</td>\n",
       "      <td>\"blue-collar\"</td>\n",
       "      <td>\"married\"</td>\n",
       "      <td>\"unknown\"</td>\n",
       "      <td>\"no\"</td>\n",
       "      <td>1506</td>\n",
       "      <td>\"yes\"</td>\n",
       "      <td>\"no\"</td>\n",
       "      <td>\"unknown\"</td>\n",
       "      <td>5</td>\n",
       "      <td>\"may\"</td>\n",
       "      <td>92</td>\n",
       "      <td>1</td>\n",
       "      <td>-1</td>\n",
       "      <td>0</td>\n",
       "      <td>\"unknown\"</td>\n",
       "      <td>\"no\"</td>\n",
       "    </tr>\n",
       "    <tr>\n",
       "      <th>4</th>\n",
       "      <td>33</td>\n",
       "      <td>\"unknown\"</td>\n",
       "      <td>\"single\"</td>\n",
       "      <td>\"unknown\"</td>\n",
       "      <td>\"no\"</td>\n",
       "      <td>1</td>\n",
       "      <td>\"no\"</td>\n",
       "      <td>\"no\"</td>\n",
       "      <td>\"unknown\"</td>\n",
       "      <td>5</td>\n",
       "      <td>\"may\"</td>\n",
       "      <td>198</td>\n",
       "      <td>1</td>\n",
       "      <td>-1</td>\n",
       "      <td>0</td>\n",
       "      <td>\"unknown\"</td>\n",
       "      <td>\"no\"</td>\n",
       "    </tr>\n",
       "  </tbody>\n",
       "</table>\n",
       "</div>"
      ],
      "text/plain": [
       "  Age    Job_Category Marital_Status    Education Credit_Default  \\\n",
       "0  58    \"management\"      \"married\"   \"tertiary\"           \"no\"   \n",
       "1  44    \"technician\"       \"single\"  \"secondary\"           \"no\"   \n",
       "2  33  \"entrepreneur\"      \"married\"  \"secondary\"           \"no\"   \n",
       "3  47   \"blue-collar\"      \"married\"    \"unknown\"           \"no\"   \n",
       "4  33       \"unknown\"       \"single\"    \"unknown\"           \"no\"   \n",
       "\n",
       "  Balance[Euro] House_Loan Personal_Loan Contact_Type DayLastContact  \\\n",
       "0          2143      \"yes\"          \"no\"    \"unknown\"              5   \n",
       "1            29      \"yes\"          \"no\"    \"unknown\"              5   \n",
       "2             2      \"yes\"         \"yes\"    \"unknown\"              5   \n",
       "3          1506      \"yes\"          \"no\"    \"unknown\"              5   \n",
       "4             1       \"no\"          \"no\"    \"unknown\"              5   \n",
       "\n",
       "  MonLastContact Duration(Sec) No.ofContacts Passed_Days No.ContactsBefore  \\\n",
       "0          \"may\"           261             1          -1                 0   \n",
       "1          \"may\"           151             1          -1                 0   \n",
       "2          \"may\"            76             1          -1                 0   \n",
       "3          \"may\"            92             1          -1                 0   \n",
       "4          \"may\"           198             1          -1                 0   \n",
       "\n",
       "    POutcome Subscribed  \n",
       "0  \"unknown\"       \"no\"  \n",
       "1  \"unknown\"       \"no\"  \n",
       "2  \"unknown\"       \"no\"  \n",
       "3  \"unknown\"       \"no\"  \n",
       "4  \"unknown\"       \"no\"  "
      ]
     },
     "execution_count": 6,
     "metadata": {},
     "output_type": "execute_result"
    }
   ],
   "source": [
    "details.head()"
   ]
  },
  {
   "cell_type": "markdown",
   "metadata": {},
   "source": [
    "#### The dataset is old and hence DayLastContact and MonLastContact that pertain to the previous year are irrelevant in our case. Hence deleting these from the dataframe.\n"
   ]
  },
  {
   "cell_type": "code",
   "execution_count": 7,
   "metadata": {
    "collapsed": false
   },
   "outputs": [],
   "source": [
    "del details['DayLastContact']\n",
    "del details['MonLastContact']"
   ]
  },
  {
   "cell_type": "markdown",
   "metadata": {},
   "source": [
    "#### It can be observed that all the values in data are prefixed and suffixed with a special character - \". The below function to delete the characters from each cell in the dataframe."
   ]
  },
  {
   "cell_type": "code",
   "execution_count": 8,
   "metadata": {
    "collapsed": true
   },
   "outputs": [],
   "source": [
    "def replaceSpecialCharacters(str):\n",
    "    return str.replace('\"', '')\n",
    "details = details.applymap(replaceSpecialCharacters)"
   ]
  },
  {
   "cell_type": "code",
   "execution_count": 9,
   "metadata": {
    "collapsed": false,
    "scrolled": true
   },
   "outputs": [
    {
     "data": {
      "text/html": [
       "<div>\n",
       "<table border=\"1\" class=\"dataframe\">\n",
       "  <thead>\n",
       "    <tr style=\"text-align: right;\">\n",
       "      <th></th>\n",
       "      <th>Age</th>\n",
       "      <th>Job_Category</th>\n",
       "      <th>Marital_Status</th>\n",
       "      <th>Education</th>\n",
       "      <th>Credit_Default</th>\n",
       "      <th>Balance[Euro]</th>\n",
       "      <th>House_Loan</th>\n",
       "      <th>Personal_Loan</th>\n",
       "      <th>Contact_Type</th>\n",
       "      <th>Duration(Sec)</th>\n",
       "      <th>No.ofContacts</th>\n",
       "      <th>Passed_Days</th>\n",
       "      <th>No.ContactsBefore</th>\n",
       "      <th>POutcome</th>\n",
       "      <th>Subscribed</th>\n",
       "    </tr>\n",
       "  </thead>\n",
       "  <tbody>\n",
       "    <tr>\n",
       "      <th>0</th>\n",
       "      <td>58</td>\n",
       "      <td>management</td>\n",
       "      <td>married</td>\n",
       "      <td>tertiary</td>\n",
       "      <td>no</td>\n",
       "      <td>2143</td>\n",
       "      <td>yes</td>\n",
       "      <td>no</td>\n",
       "      <td>unknown</td>\n",
       "      <td>261</td>\n",
       "      <td>1</td>\n",
       "      <td>-1</td>\n",
       "      <td>0</td>\n",
       "      <td>unknown</td>\n",
       "      <td>no</td>\n",
       "    </tr>\n",
       "    <tr>\n",
       "      <th>1</th>\n",
       "      <td>44</td>\n",
       "      <td>technician</td>\n",
       "      <td>single</td>\n",
       "      <td>secondary</td>\n",
       "      <td>no</td>\n",
       "      <td>29</td>\n",
       "      <td>yes</td>\n",
       "      <td>no</td>\n",
       "      <td>unknown</td>\n",
       "      <td>151</td>\n",
       "      <td>1</td>\n",
       "      <td>-1</td>\n",
       "      <td>0</td>\n",
       "      <td>unknown</td>\n",
       "      <td>no</td>\n",
       "    </tr>\n",
       "    <tr>\n",
       "      <th>2</th>\n",
       "      <td>33</td>\n",
       "      <td>entrepreneur</td>\n",
       "      <td>married</td>\n",
       "      <td>secondary</td>\n",
       "      <td>no</td>\n",
       "      <td>2</td>\n",
       "      <td>yes</td>\n",
       "      <td>yes</td>\n",
       "      <td>unknown</td>\n",
       "      <td>76</td>\n",
       "      <td>1</td>\n",
       "      <td>-1</td>\n",
       "      <td>0</td>\n",
       "      <td>unknown</td>\n",
       "      <td>no</td>\n",
       "    </tr>\n",
       "    <tr>\n",
       "      <th>3</th>\n",
       "      <td>47</td>\n",
       "      <td>blue-collar</td>\n",
       "      <td>married</td>\n",
       "      <td>unknown</td>\n",
       "      <td>no</td>\n",
       "      <td>1506</td>\n",
       "      <td>yes</td>\n",
       "      <td>no</td>\n",
       "      <td>unknown</td>\n",
       "      <td>92</td>\n",
       "      <td>1</td>\n",
       "      <td>-1</td>\n",
       "      <td>0</td>\n",
       "      <td>unknown</td>\n",
       "      <td>no</td>\n",
       "    </tr>\n",
       "    <tr>\n",
       "      <th>4</th>\n",
       "      <td>33</td>\n",
       "      <td>unknown</td>\n",
       "      <td>single</td>\n",
       "      <td>unknown</td>\n",
       "      <td>no</td>\n",
       "      <td>1</td>\n",
       "      <td>no</td>\n",
       "      <td>no</td>\n",
       "      <td>unknown</td>\n",
       "      <td>198</td>\n",
       "      <td>1</td>\n",
       "      <td>-1</td>\n",
       "      <td>0</td>\n",
       "      <td>unknown</td>\n",
       "      <td>no</td>\n",
       "    </tr>\n",
       "  </tbody>\n",
       "</table>\n",
       "</div>"
      ],
      "text/plain": [
       "  Age  Job_Category Marital_Status  Education Credit_Default Balance[Euro]  \\\n",
       "0  58    management        married   tertiary             no          2143   \n",
       "1  44    technician         single  secondary             no            29   \n",
       "2  33  entrepreneur        married  secondary             no             2   \n",
       "3  47   blue-collar        married    unknown             no          1506   \n",
       "4  33       unknown         single    unknown             no             1   \n",
       "\n",
       "  House_Loan Personal_Loan Contact_Type Duration(Sec) No.ofContacts  \\\n",
       "0        yes            no      unknown           261             1   \n",
       "1        yes            no      unknown           151             1   \n",
       "2        yes           yes      unknown            76             1   \n",
       "3        yes            no      unknown            92             1   \n",
       "4         no            no      unknown           198             1   \n",
       "\n",
       "  Passed_Days No.ContactsBefore POutcome Subscribed  \n",
       "0          -1                 0  unknown         no  \n",
       "1          -1                 0  unknown         no  \n",
       "2          -1                 0  unknown         no  \n",
       "3          -1                 0  unknown         no  \n",
       "4          -1                 0  unknown         no  "
      ]
     },
     "execution_count": 9,
     "metadata": {},
     "output_type": "execute_result"
    }
   ],
   "source": [
    "details.head()"
   ]
  },
  {
   "cell_type": "markdown",
   "metadata": {},
   "source": [
    "## Data Exploration"
   ]
  },
  {
   "cell_type": "code",
   "execution_count": 10,
   "metadata": {
    "collapsed": false
   },
   "outputs": [
    {
     "data": {
      "text/plain": [
       "array(['unknown', 'failure', 'other', 'success'], dtype=object)"
      ]
     },
     "execution_count": 10,
     "metadata": {},
     "output_type": "execute_result"
    }
   ],
   "source": [
    "details['POutcome'].unique()"
   ]
  },
  {
   "cell_type": "markdown",
   "metadata": {},
   "source": [
    "#### We will assume that customers for whom the POutcome value was either 'unknown' or 'other', the marketing campaign was not carried out before. Hence renaming the 'unknown' or 'other' values to 'notApplicable'."
   ]
  },
  {
   "cell_type": "code",
   "execution_count": 11,
   "metadata": {
    "collapsed": false
   },
   "outputs": [],
   "source": [
    "details['POutcome'] = details['POutcome'].apply({'unknown':\"notApplicable\", 'other':\"notApplicable\",'failure':\"failure\", \\\n",
    "                                            'success': \"success\"}.get)"
   ]
  },
  {
   "cell_type": "code",
   "execution_count": 12,
   "metadata": {
    "collapsed": false
   },
   "outputs": [
    {
     "data": {
      "text/plain": [
       "array(['unknown', 'cellular', 'telephone'], dtype=object)"
      ]
     },
     "execution_count": 12,
     "metadata": {},
     "output_type": "execute_result"
    }
   ],
   "source": [
    "details['Contact_Type'].unique()"
   ]
  },
  {
   "cell_type": "markdown",
   "metadata": {},
   "source": [
    "#### For better understanding, we will rename the value of contact type as mobile and landline. We will assume that when the Contact Type is unknown, it might be some other form of communication. Hence renaming the values which are 'unknown' as 'other'."
   ]
  },
  {
   "cell_type": "code",
   "execution_count": 13,
   "metadata": {
    "collapsed": true
   },
   "outputs": [],
   "source": [
    "details['Contact_Type'] = details['Contact_Type'].apply({'unknown':\"other\", 'cellular':\"mobile\",'telephone':\"landline\"}.get)"
   ]
  },
  {
   "cell_type": "code",
   "execution_count": 14,
   "metadata": {
    "collapsed": false
   },
   "outputs": [
    {
     "data": {
      "text/plain": [
       "array(['other', 'mobile', 'landline'], dtype=object)"
      ]
     },
     "execution_count": 14,
     "metadata": {},
     "output_type": "execute_result"
    }
   ],
   "source": [
    "details['Contact_Type'].unique()"
   ]
  },
  {
   "cell_type": "markdown",
   "metadata": {},
   "source": [
    "#### Check if any cells in the dataframe have null values. From the below output, it can be confirmed that none of the cells have a null value."
   ]
  },
  {
   "cell_type": "code",
   "execution_count": 15,
   "metadata": {
    "collapsed": false,
    "scrolled": false
   },
   "outputs": [
    {
     "data": {
      "text/plain": [
       "Age                  0\n",
       "Job_Category         0\n",
       "Marital_Status       0\n",
       "Education            0\n",
       "Credit_Default       0\n",
       "Balance[Euro]        0\n",
       "House_Loan           0\n",
       "Personal_Loan        0\n",
       "Contact_Type         0\n",
       "Duration(Sec)        0\n",
       "No.ofContacts        0\n",
       "Passed_Days          0\n",
       "No.ContactsBefore    0\n",
       "POutcome             0\n",
       "Subscribed           0\n",
       "dtype: int64"
      ]
     },
     "execution_count": 15,
     "metadata": {},
     "output_type": "execute_result"
    }
   ],
   "source": [
    "details.isnull().sum()"
   ]
  },
  {
   "cell_type": "markdown",
   "metadata": {},
   "source": [
    "#### The dataset contains 45211 rows and 15 columns."
   ]
  },
  {
   "cell_type": "code",
   "execution_count": 16,
   "metadata": {
    "collapsed": false
   },
   "outputs": [
    {
     "data": {
      "text/plain": [
       "(45211, 15)"
      ]
     },
     "execution_count": 16,
     "metadata": {},
     "output_type": "execute_result"
    }
   ],
   "source": [
    "details.shape"
   ]
  },
  {
   "cell_type": "code",
   "execution_count": 17,
   "metadata": {
    "collapsed": false
   },
   "outputs": [
    {
     "data": {
      "text/plain": [
       "array(['management', 'technician', 'entrepreneur', 'blue-collar',\n",
       "       'unknown', 'retired', 'admin.', 'services', 'self-employed',\n",
       "       'unemployed', 'housemaid', 'student'], dtype=object)"
      ]
     },
     "execution_count": 17,
     "metadata": {},
     "output_type": "execute_result"
    }
   ],
   "source": [
    "details['Job_Category'].unique()"
   ]
  },
  {
   "cell_type": "code",
   "execution_count": 18,
   "metadata": {
    "collapsed": false
   },
   "outputs": [
    {
     "data": {
      "text/plain": [
       "array(['tertiary', 'secondary', 'unknown', 'primary'], dtype=object)"
      ]
     },
     "execution_count": 18,
     "metadata": {},
     "output_type": "execute_result"
    }
   ],
   "source": [
    "details['Education'].unique()"
   ]
  },
  {
   "cell_type": "code",
   "execution_count": 19,
   "metadata": {
    "collapsed": false
   },
   "outputs": [
    {
     "data": {
      "text/plain": [
       "array(['married', 'single', 'divorced'], dtype=object)"
      ]
     },
     "execution_count": 19,
     "metadata": {},
     "output_type": "execute_result"
    }
   ],
   "source": [
    "details['Marital_Status'].unique()"
   ]
  },
  {
   "cell_type": "markdown",
   "metadata": {},
   "source": [
    "#### The 'Subscribed' column tell us whether the client subscribed to the term deposit or not. The target variable happens is the same. Renaming the values to binary: - yes - 1 and no - 0"
   ]
  },
  {
   "cell_type": "code",
   "execution_count": 20,
   "metadata": {
    "collapsed": true
   },
   "outputs": [],
   "source": [
    "d1 = {'yes': 1, 'no': 0} \n",
    "details['Subscribed'] = details['Subscribed'].map(d1)"
   ]
  },
  {
   "cell_type": "code",
   "execution_count": 21,
   "metadata": {
    "collapsed": false,
    "scrolled": true
   },
   "outputs": [
    {
     "data": {
      "text/plain": [
       "array([0, 1], dtype=int64)"
      ]
     },
     "execution_count": 21,
     "metadata": {},
     "output_type": "execute_result"
    }
   ],
   "source": [
    "details['Subscribed'].unique()"
   ]
  },
  {
   "cell_type": "markdown",
   "metadata": {},
   "source": [
    "#### Checking the datatype of each feature"
   ]
  },
  {
   "cell_type": "code",
   "execution_count": 22,
   "metadata": {
    "collapsed": false,
    "scrolled": true
   },
   "outputs": [
    {
     "data": {
      "text/plain": [
       "Age                  object\n",
       "Job_Category         object\n",
       "Marital_Status       object\n",
       "Education            object\n",
       "Credit_Default       object\n",
       "Balance[Euro]        object\n",
       "House_Loan           object\n",
       "Personal_Loan        object\n",
       "Contact_Type         object\n",
       "Duration(Sec)        object\n",
       "No.ofContacts        object\n",
       "Passed_Days          object\n",
       "No.ContactsBefore    object\n",
       "POutcome             object\n",
       "Subscribed            int64\n",
       "dtype: object"
      ]
     },
     "execution_count": 22,
     "metadata": {},
     "output_type": "execute_result"
    }
   ],
   "source": [
    "details.dtypes"
   ]
  },
  {
   "cell_type": "markdown",
   "metadata": {},
   "source": [
    "#### Converting the datatype of the numeric featres from object to numeric."
   ]
  },
  {
   "cell_type": "code",
   "execution_count": 23,
   "metadata": {
    "collapsed": false
   },
   "outputs": [],
   "source": [
    " details[['Age','Balance[Euro]','Duration(Sec)','No.ofContacts','Passed_Days','No.ContactsBefore']] = details[['Age','Balance[Euro]','Duration(Sec)','No.ofContacts','Passed_Days','No.ContactsBefore']].apply(pd.to_numeric)"
   ]
  },
  {
   "cell_type": "code",
   "execution_count": 24,
   "metadata": {
    "collapsed": false
   },
   "outputs": [
    {
     "data": {
      "text/plain": [
       "Age                   int64\n",
       "Job_Category         object\n",
       "Marital_Status       object\n",
       "Education            object\n",
       "Credit_Default       object\n",
       "Balance[Euro]         int64\n",
       "House_Loan           object\n",
       "Personal_Loan        object\n",
       "Contact_Type         object\n",
       "Duration(Sec)         int64\n",
       "No.ofContacts         int64\n",
       "Passed_Days           int64\n",
       "No.ContactsBefore     int64\n",
       "POutcome             object\n",
       "Subscribed            int64\n",
       "dtype: object"
      ]
     },
     "execution_count": 24,
     "metadata": {},
     "output_type": "execute_result"
    }
   ],
   "source": [
    "details.dtypes"
   ]
  },
  {
   "cell_type": "code",
   "execution_count": 25,
   "metadata": {
    "collapsed": false,
    "scrolled": false
   },
   "outputs": [
    {
     "data": {
      "text/html": [
       "<div>\n",
       "<table border=\"1\" class=\"dataframe\">\n",
       "  <thead>\n",
       "    <tr style=\"text-align: right;\">\n",
       "      <th></th>\n",
       "      <th>Age</th>\n",
       "      <th>Balance[Euro]</th>\n",
       "      <th>Duration(Sec)</th>\n",
       "      <th>No.ofContacts</th>\n",
       "      <th>Passed_Days</th>\n",
       "      <th>No.ContactsBefore</th>\n",
       "    </tr>\n",
       "    <tr>\n",
       "      <th>Subscribed</th>\n",
       "      <th></th>\n",
       "      <th></th>\n",
       "      <th></th>\n",
       "      <th></th>\n",
       "      <th></th>\n",
       "      <th></th>\n",
       "    </tr>\n",
       "  </thead>\n",
       "  <tbody>\n",
       "    <tr>\n",
       "      <th>0</th>\n",
       "      <td>40.838986</td>\n",
       "      <td>1303.714969</td>\n",
       "      <td>221.182806</td>\n",
       "      <td>2.846350</td>\n",
       "      <td>36.421372</td>\n",
       "      <td>0.502154</td>\n",
       "    </tr>\n",
       "    <tr>\n",
       "      <th>1</th>\n",
       "      <td>41.670070</td>\n",
       "      <td>1804.267915</td>\n",
       "      <td>537.294574</td>\n",
       "      <td>2.141047</td>\n",
       "      <td>68.702968</td>\n",
       "      <td>1.170354</td>\n",
       "    </tr>\n",
       "  </tbody>\n",
       "</table>\n",
       "</div>"
      ],
      "text/plain": [
       "                  Age  Balance[Euro]  Duration(Sec)  No.ofContacts  \\\n",
       "Subscribed                                                           \n",
       "0           40.838986    1303.714969     221.182806       2.846350   \n",
       "1           41.670070    1804.267915     537.294574       2.141047   \n",
       "\n",
       "            Passed_Days  No.ContactsBefore  \n",
       "Subscribed                                  \n",
       "0             36.421372           0.502154  \n",
       "1             68.702968           1.170354  "
      ]
     },
     "execution_count": 25,
     "metadata": {},
     "output_type": "execute_result"
    }
   ],
   "source": [
    "details.groupby('Subscribed').mean()"
   ]
  },
  {
   "cell_type": "markdown",
   "metadata": {},
   "source": [
    "The above details show the following:\n",
    "1. The average age of the people subscribing for the term deposit is little higher than the people who not subscribing the deposit.\n",
    "2. With no surprise, the average Balance in the accounts of the people who did not subscribe is lower than those who subscribed.\n",
    "3. The calls with people who subscribed for the deposit, lasted for a longer duration. Hence greater the last call duration,\n",
    "more chances of subscription. But Surprisingly, the number of calls made during the current campaign are lower for customers\n",
    "who bought the term deposit.\n",
    "4. There are more chances of getting a subscription if more number of calls are made to the customer than that made during\n",
    "the previous campaign."
   ]
  },
  {
   "cell_type": "code",
   "execution_count": 26,
   "metadata": {
    "collapsed": false
   },
   "outputs": [
    {
     "data": {
      "text/plain": [
       "0    39922\n",
       "1     5289\n",
       "Name: Subscribed, dtype: int64"
      ]
     },
     "execution_count": 26,
     "metadata": {},
     "output_type": "execute_result"
    }
   ],
   "source": [
    "details['Subscribed'].value_counts()"
   ]
  },
  {
   "cell_type": "markdown",
   "metadata": {},
   "source": [
    "## Data Visualizations"
   ]
  },
  {
   "cell_type": "code",
   "execution_count": 27,
   "metadata": {
    "collapsed": false,
    "scrolled": true
   },
   "outputs": [
    {
     "data": {
      "image/png": "[encoded data removed]",
      "text/plain": [
       "<matplotlib.figure.Figure at 0x557fc8780>"
      ]
     },
     "metadata": {},
     "output_type": "display_data"
    }
   ],
   "source": [
    "import matplotlib.pyplot as plt\n",
    "%matplotlib inline\n",
    "pd.crosstab(details.Job_Category,details.Subscribed.astype(bool)).plot(kind='bar')\n",
    "plt.title('Purchase Frequency for Job Category')\n",
    "plt.xlabel('Job Category')\n",
    "plt.ylabel('Frequency of Purchase')\n",
    "ax = plt.gca()\n",
    "ax.set_facecolor((1.0, 0.9, 0.9))\n",
    "plt.show()"
   ]
  },
  {
   "cell_type": "markdown",
   "metadata": {},
   "source": [
    "#### In the above figure we see that management people are more likely to subscribe to the product. Thus we can take this as one of our feaures."
   ]
  },
  {
   "cell_type": "code",
   "execution_count": 28,
   "metadata": {
    "collapsed": false,
    "scrolled": false
   },
   "outputs": [
    {
     "data": {
      "image/png": "[encoded data removed]",
      "text/plain": [
       "<matplotlib.figure.Figure at 0x5578ed1d0>"
      ]
     },
     "metadata": {},
     "output_type": "display_data"
    }
   ],
   "source": [
    "table = pd.crosstab(details.Marital_Status, details.Subscribed.astype(bool))\n",
    "table.div(table.sum(1).astype(float), axis=0).plot(kind='bar', stacked=True)\n",
    "plt.title('Marital Status vs Subscription')\n",
    "plt.xlabel('Marital Status')\n",
    "plt.ylabel('Subscription')\n",
    "plt.legend(bbox_to_anchor=(1.05, 1), loc=2, borderaxespad=0.)\n",
    "ax = plt.gca()\n",
    "ax.set_facecolor((1.0, 0.9, 0.9))\n",
    "plt.show()"
   ]
  },
  {
   "cell_type": "markdown",
   "metadata": {},
   "source": [
    "#### The above figure suggests that if the customer is single, there are slightly more chances of gettng a subscription than the other categories."
   ]
  },
  {
   "cell_type": "code",
   "execution_count": 29,
   "metadata": {
    "collapsed": false
   },
   "outputs": [
    {
     "data": {
      "image/png": "[encoded data removed]",
      "text/plain": [
       "<matplotlib.figure.Figure at 0x557ae8198>"
      ]
     },
     "metadata": {},
     "output_type": "display_data"
    }
   ],
   "source": [
    "edu = pd.crosstab(details.Education, details.Subscribed.astype(bool))\n",
    "edu.div(edu.sum(1).astype(float), axis=0).plot(kind='bar', stacked=True)\n",
    "plt.title('Education vs Subscription')\n",
    "plt.xlabel('Education')\n",
    "plt.ylabel('Subscription')\n",
    "plt.legend(bbox_to_anchor=(1.05, 1), loc=2, borderaxespad=0.)\n",
    "ax = plt.gca()\n",
    "ax.set_facecolor((1.0, 0.9, 0.9))\n",
    "plt.show()"
   ]
  },
  {
   "cell_type": "markdown",
   "metadata": {},
   "source": [
    "#### The above visualization suggests that the customers with only primary education are less likely to subscribe to product."
   ]
  },
  {
   "cell_type": "code",
   "execution_count": 30,
   "metadata": {
    "collapsed": false
   },
   "outputs": [
    {
     "data": {
      "image/png": "[encoded data removed]",
      "text/plain": [
       "<matplotlib.figure.Figure at 0x557bc5128>"
      ]
     },
     "metadata": {},
     "output_type": "display_data"
    }
   ],
   "source": [
    "cd = pd.crosstab(details.Credit_Default, details.Subscribed.astype(bool))\n",
    "cd.div(cd.sum(1).astype(float), axis=0).plot(kind='bar', stacked=True)\n",
    "plt.title('Credit_Default vs Subscription')\n",
    "plt.xlabel('Credit_Default')\n",
    "plt.ylabel('Subscription')\n",
    "plt.legend(bbox_to_anchor=(1.05, 1), loc=2, borderaxespad=0.)\n",
    "ax = plt.gca()\n",
    "ax.set_facecolor((1.0, 0.9, 0.9))\n",
    "plt.show()"
   ]
  },
  {
   "cell_type": "markdown",
   "metadata": {},
   "source": [
    "#### The above visualization suggests that the customers who do not have a credit default are more likely to subscribe. Hence this is a good feature."
   ]
  },
  {
   "cell_type": "code",
   "execution_count": 31,
   "metadata": {
    "collapsed": false
   },
   "outputs": [
    {
     "data": {
      "image/png": "[encoded data removed]",
      "text/plain": [
       "<matplotlib.figure.Figure at 0x5561e8b38>"
      ]
     },
     "metadata": {},
     "output_type": "display_data"
    }
   ],
   "source": [
    "hd = pd.crosstab(details.House_Loan, details.Subscribed.astype(bool))\n",
    "hd.div(hd.sum(1).astype(float), axis=0).plot(kind='bar', stacked=True)\n",
    "plt.title('House_Loan vs Subscription')\n",
    "plt.xlabel('House_Loan')\n",
    "plt.ylabel('Subscription')\n",
    "plt.legend(bbox_to_anchor=(1.05, 1), loc=2, borderaxespad=0.)\n",
    "ax = plt.gca()\n",
    "ax.set_facecolor((1.0, 0.9, 0.9))\n",
    "plt.show()"
   ]
  },
  {
   "cell_type": "markdown",
   "metadata": {},
   "source": [
    "#### The above visualization shows the customers who do not have a house loan are more likely to subscribe."
   ]
  },
  {
   "cell_type": "code",
   "execution_count": 32,
   "metadata": {
    "collapsed": false
   },
   "outputs": [
    {
     "data": {
      "image/png": "[encoded data removed]",
      "text/plain": [
       "<matplotlib.figure.Figure at 0x557ad32b0>"
      ]
     },
     "metadata": {},
     "output_type": "display_data"
    }
   ],
   "source": [
    "pl = pd.crosstab(details.Personal_Loan, details.Subscribed.astype(bool))\n",
    "pl.div(pl.sum(1).astype(float), axis=0).plot(kind='bar', stacked=True)\n",
    "plt.title('Personal_Loan vs Subscription')\n",
    "plt.xlabel('Personal_Loan')\n",
    "plt.ylabel('Subscription')\n",
    "plt.legend(bbox_to_anchor=(1.05, 1), loc=2, borderaxespad=0.)\n",
    "ax = plt.gca()\n",
    "ax.set_facecolor((1.0, 0.9, 0.9))\n",
    "plt.show()"
   ]
  },
  {
   "cell_type": "markdown",
   "metadata": {},
   "source": [
    "#### The above visualization shows the customers who do not have a personal loan are more likely to subscribe."
   ]
  },
  {
   "cell_type": "code",
   "execution_count": 33,
   "metadata": {
    "collapsed": false
   },
   "outputs": [
    {
     "data": {
      "image/png": "[encoded data removed]",
      "text/plain": [
       "<matplotlib.figure.Figure at 0x557fd8898>"
      ]
     },
     "metadata": {},
     "output_type": "display_data"
    }
   ],
   "source": [
    "Ctype = pd.crosstab(details.Contact_Type, details.Subscribed.astype(bool))\n",
    "Ctype.div(Ctype.sum(1).astype(float), axis=0).plot(kind='bar', stacked=True)\n",
    "plt.title('Contact_Type vs Subscription')\n",
    "plt.xlabel('Contact_Type')\n",
    "plt.ylabel('Subscription')\n",
    "plt.legend(bbox_to_anchor=(1.05, 1), loc=2, borderaxespad=0.)\n",
    "ax = plt.gca()\n",
    "ax.set_facecolor((1.0, 0.9, 0.9))\n",
    "plt.show()"
   ]
  },
  {
   "cell_type": "markdown",
   "metadata": {},
   "source": [
    "#### The above visualization shows that the customers when contacted through mobile and landline have more chances of getting converted than through other means."
   ]
  },
  {
   "cell_type": "code",
   "execution_count": 34,
   "metadata": {
    "collapsed": false,
    "scrolled": false
   },
   "outputs": [
    {
     "data": {
      "image/png": "[encoded data removed]",
      "text/plain": [
       "<matplotlib.figure.Figure at 0x557c3d780>"
      ]
     },
     "metadata": {},
     "output_type": "display_data"
    }
   ],
   "source": [
    "Pout = pd.crosstab(details.POutcome, details.Subscribed.astype(bool))\n",
    "Pout.div(Pout.sum(1).astype(float), axis=0).plot(kind='bar', stacked=True)\n",
    "plt.title('POutcome vs Subscribtion')\n",
    "plt.xlabel('POutcome')\n",
    "plt.ylabel('Subscribtion')\n",
    "plt.legend(bbox_to_anchor=(1.05, 1), loc=2, borderaxespad=0.)\n",
    "ax = plt.gca()\n",
    "ax.set_facecolor((1.0, 0.9, 0.9))\n",
    "plt.show()"
   ]
  },
  {
   "cell_type": "markdown",
   "metadata": {},
   "source": [
    "#### The above visualization shows that customers for whom the previous marketing campaign was a success are more likely to subscribe in this campaign too."
   ]
  },
  {
   "cell_type": "markdown",
   "metadata": {},
   "source": [
    "## Feature Selection"
   ]
  },
  {
   "cell_type": "markdown",
   "metadata": {},
   "source": [
    "After exploring the data and analyzing all the visualization, we conclude that except for DayLastContact: Last contact day of the month and MonLastContact:Last contact month of year, all other features would impact the chances of customer subscription."
   ]
  },
  {
   "cell_type": "markdown",
   "metadata": {},
   "source": [
    "## Building the Model"
   ]
  },
  {
   "cell_type": "markdown",
   "metadata": {},
   "source": [
    "Logistic regression is a statistical method for analyzing a dataset in which there are one or more independent variables that determine an outcome. The outcome is measured with a dichotomous variable (in which there are only two possible outcomes).\n",
    "\n",
    "Since in this we have the find if the customer will subscribe to the product or not, logistc regression model seems to be a good fit. Hence we will use the same for makimg prediction. In this method, we derive the probability of customer subscribing to the term deposit."
   ]
  },
  {
   "cell_type": "markdown",
   "metadata": {},
   "source": [
    "#### Now, for the categorical variables, we will have dummy variables"
   ]
  },
  {
   "cell_type": "code",
   "execution_count": 35,
   "metadata": {
    "collapsed": false
   },
   "outputs": [],
   "source": [
    "categories=['Education','Marital_Status','Job_Category','Credit_Default','House_Loan','Personal_Loan','Contact_Type','POutcome']\n",
    "for var in categories:\n",
    "    category_list='var'+'_'+var\n",
    "    category_list = pd.get_dummies(details[var], prefix=var)\n",
    "    newdetails=details.join(category_list)\n",
    "    details=newdetails\n",
    "    "
   ]
  },
  {
   "cell_type": "code",
   "execution_count": 36,
   "metadata": {
    "collapsed": true
   },
   "outputs": [],
   "source": [
    "categories=['Education','Marital_Status','Job_Category','Credit_Default','House_Loan','Personal_Loan','Contact_Type','POutcome']\n",
    "features=details.columns.values.tolist()\n",
    "retaincategories=[i for i in features if i not in categories]\n"
   ]
  },
  {
   "cell_type": "code",
   "execution_count": 37,
   "metadata": {
    "collapsed": false,
    "scrolled": true
   },
   "outputs": [
    {
     "data": {
      "text/plain": [
       "array(['Age', 'Balance[Euro]', 'Duration(Sec)', 'No.ofContacts',\n",
       "       'Passed_Days', 'No.ContactsBefore', 'Subscribed',\n",
       "       'Education_primary', 'Education_secondary', 'Education_tertiary',\n",
       "       'Education_unknown', 'Marital_Status_divorced',\n",
       "       'Marital_Status_married', 'Marital_Status_single',\n",
       "       'Job_Category_admin.', 'Job_Category_blue-collar',\n",
       "       'Job_Category_entrepreneur', 'Job_Category_housemaid',\n",
       "       'Job_Category_management', 'Job_Category_retired',\n",
       "       'Job_Category_self-employed', 'Job_Category_services',\n",
       "       'Job_Category_student', 'Job_Category_technician',\n",
       "       'Job_Category_unemployed', 'Job_Category_unknown',\n",
       "       'Credit_Default_no', 'Credit_Default_yes', 'House_Loan_no',\n",
       "       'House_Loan_yes', 'Personal_Loan_no', 'Personal_Loan_yes',\n",
       "       'Contact_Type_landline', 'Contact_Type_mobile',\n",
       "       'Contact_Type_other', 'POutcome_failure', 'POutcome_notApplicable',\n",
       "       'POutcome_success'], dtype=object)"
      ]
     },
     "execution_count": 37,
     "metadata": {},
     "output_type": "execute_result"
    }
   ],
   "source": [
    "data_final=details[retaincategories]\n",
    "data_final.columns.values"
   ]
  },
  {
   "cell_type": "code",
   "execution_count": 38,
   "metadata": {
    "collapsed": false
   },
   "outputs": [
    {
     "data": {
      "text/html": [
       "<div>\n",
       "<table border=\"1\" class=\"dataframe\">\n",
       "  <thead>\n",
       "    <tr style=\"text-align: right;\">\n",
       "      <th></th>\n",
       "      <th>Age</th>\n",
       "      <th>Balance[Euro]</th>\n",
       "      <th>Duration(Sec)</th>\n",
       "      <th>No.ofContacts</th>\n",
       "      <th>Passed_Days</th>\n",
       "      <th>No.ContactsBefore</th>\n",
       "      <th>Subscribed</th>\n",
       "      <th>Education_primary</th>\n",
       "      <th>Education_secondary</th>\n",
       "      <th>Education_tertiary</th>\n",
       "      <th>...</th>\n",
       "      <th>House_Loan_no</th>\n",
       "      <th>House_Loan_yes</th>\n",
       "      <th>Personal_Loan_no</th>\n",
       "      <th>Personal_Loan_yes</th>\n",
       "      <th>Contact_Type_landline</th>\n",
       "      <th>Contact_Type_mobile</th>\n",
       "      <th>Contact_Type_other</th>\n",
       "      <th>POutcome_failure</th>\n",
       "      <th>POutcome_notApplicable</th>\n",
       "      <th>POutcome_success</th>\n",
       "    </tr>\n",
       "  </thead>\n",
       "  <tbody>\n",
       "    <tr>\n",
       "      <th>0</th>\n",
       "      <td>58</td>\n",
       "      <td>2143</td>\n",
       "      <td>261</td>\n",
       "      <td>1</td>\n",
       "      <td>-1</td>\n",
       "      <td>0</td>\n",
       "      <td>0</td>\n",
       "      <td>0</td>\n",
       "      <td>0</td>\n",
       "      <td>1</td>\n",
       "      <td>...</td>\n",
       "      <td>0</td>\n",
       "      <td>1</td>\n",
       "      <td>1</td>\n",
       "      <td>0</td>\n",
       "      <td>0</td>\n",
       "      <td>0</td>\n",
       "      <td>1</td>\n",
       "      <td>0</td>\n",
       "      <td>1</td>\n",
       "      <td>0</td>\n",
       "    </tr>\n",
       "    <tr>\n",
       "      <th>1</th>\n",
       "      <td>44</td>\n",
       "      <td>29</td>\n",
       "      <td>151</td>\n",
       "      <td>1</td>\n",
       "      <td>-1</td>\n",
       "      <td>0</td>\n",
       "      <td>0</td>\n",
       "      <td>0</td>\n",
       "      <td>1</td>\n",
       "      <td>0</td>\n",
       "      <td>...</td>\n",
       "      <td>0</td>\n",
       "      <td>1</td>\n",
       "      <td>1</td>\n",
       "      <td>0</td>\n",
       "      <td>0</td>\n",
       "      <td>0</td>\n",
       "      <td>1</td>\n",
       "      <td>0</td>\n",
       "      <td>1</td>\n",
       "      <td>0</td>\n",
       "    </tr>\n",
       "    <tr>\n",
       "      <th>2</th>\n",
       "      <td>33</td>\n",
       "      <td>2</td>\n",
       "      <td>76</td>\n",
       "      <td>1</td>\n",
       "      <td>-1</td>\n",
       "      <td>0</td>\n",
       "      <td>0</td>\n",
       "      <td>0</td>\n",
       "      <td>1</td>\n",
       "      <td>0</td>\n",
       "      <td>...</td>\n",
       "      <td>0</td>\n",
       "      <td>1</td>\n",
       "      <td>0</td>\n",
       "      <td>1</td>\n",
       "      <td>0</td>\n",
       "      <td>0</td>\n",
       "      <td>1</td>\n",
       "      <td>0</td>\n",
       "      <td>1</td>\n",
       "      <td>0</td>\n",
       "    </tr>\n",
       "    <tr>\n",
       "      <th>3</th>\n",
       "      <td>47</td>\n",
       "      <td>1506</td>\n",
       "      <td>92</td>\n",
       "      <td>1</td>\n",
       "      <td>-1</td>\n",
       "      <td>0</td>\n",
       "      <td>0</td>\n",
       "      <td>0</td>\n",
       "      <td>0</td>\n",
       "      <td>0</td>\n",
       "      <td>...</td>\n",
       "      <td>0</td>\n",
       "      <td>1</td>\n",
       "      <td>1</td>\n",
       "      <td>0</td>\n",
       "      <td>0</td>\n",
       "      <td>0</td>\n",
       "      <td>1</td>\n",
       "      <td>0</td>\n",
       "      <td>1</td>\n",
       "      <td>0</td>\n",
       "    </tr>\n",
       "    <tr>\n",
       "      <th>4</th>\n",
       "      <td>33</td>\n",
       "      <td>1</td>\n",
       "      <td>198</td>\n",
       "      <td>1</td>\n",
       "      <td>-1</td>\n",
       "      <td>0</td>\n",
       "      <td>0</td>\n",
       "      <td>0</td>\n",
       "      <td>0</td>\n",
       "      <td>0</td>\n",
       "      <td>...</td>\n",
       "      <td>1</td>\n",
       "      <td>0</td>\n",
       "      <td>1</td>\n",
       "      <td>0</td>\n",
       "      <td>0</td>\n",
       "      <td>0</td>\n",
       "      <td>1</td>\n",
       "      <td>0</td>\n",
       "      <td>1</td>\n",
       "      <td>0</td>\n",
       "    </tr>\n",
       "  </tbody>\n",
       "</table>\n",
       "<p>5 rows × 38 columns</p>\n",
       "</div>"
      ],
      "text/plain": [
       "   Age  Balance[Euro]  Duration(Sec)  No.ofContacts  Passed_Days  \\\n",
       "0   58           2143            261              1           -1   \n",
       "1   44             29            151              1           -1   \n",
       "2   33              2             76              1           -1   \n",
       "3   47           1506             92              1           -1   \n",
       "4   33              1            198              1           -1   \n",
       "\n",
       "   No.ContactsBefore  Subscribed  Education_primary  Education_secondary  \\\n",
       "0                  0           0                  0                    0   \n",
       "1                  0           0                  0                    1   \n",
       "2                  0           0                  0                    1   \n",
       "3                  0           0                  0                    0   \n",
       "4                  0           0                  0                    0   \n",
       "\n",
       "   Education_tertiary        ...         House_Loan_no  House_Loan_yes  \\\n",
       "0                   1        ...                     0               1   \n",
       "1                   0        ...                     0               1   \n",
       "2                   0        ...                     0               1   \n",
       "3                   0        ...                     0               1   \n",
       "4                   0        ...                     1               0   \n",
       "\n",
       "   Personal_Loan_no  Personal_Loan_yes  Contact_Type_landline  \\\n",
       "0                 1                  0                      0   \n",
       "1                 1                  0                      0   \n",
       "2                 0                  1                      0   \n",
       "3                 1                  0                      0   \n",
       "4                 1                  0                      0   \n",
       "\n",
       "   Contact_Type_mobile  Contact_Type_other  POutcome_failure  \\\n",
       "0                    0                   1                 0   \n",
       "1                    0                   1                 0   \n",
       "2                    0                   1                 0   \n",
       "3                    0                   1                 0   \n",
       "4                    0                   1                 0   \n",
       "\n",
       "   POutcome_notApplicable  POutcome_success  \n",
       "0                       1                 0  \n",
       "1                       1                 0  \n",
       "2                       1                 0  \n",
       "3                       1                 0  \n",
       "4                       1                 0  \n",
       "\n",
       "[5 rows x 38 columns]"
      ]
     },
     "execution_count": 38,
     "metadata": {},
     "output_type": "execute_result"
    }
   ],
   "source": [
    "data_final.head()"
   ]
  },
  {
   "cell_type": "markdown",
   "metadata": {},
   "source": [
    "#### Determine the X and Y variables before fitting model:\n",
    "X - features\n",
    "<br>y - Class label ( 0 - if the customers will not subscribe, 1 - if the customer will subscribe)"
   ]
  },
  {
   "cell_type": "code",
   "execution_count": 39,
   "metadata": {
    "collapsed": false
   },
   "outputs": [],
   "source": [
    "cols=['Age', 'Balance[Euro]', 'Duration(Sec)', 'No.ofContacts',\n",
    "       'Passed_Days', 'No.ContactsBefore', 'Education_primary', 'Education_secondary', 'Education_tertiary',\n",
    "       'Education_unknown', 'Marital_Status_divorced',\n",
    "       'Marital_Status_married', 'Marital_Status_single',\n",
    "       'Job_Category_admin.', 'Job_Category_blue-collar',\n",
    "       'Job_Category_entrepreneur', 'Job_Category_housemaid',\n",
    "       'Job_Category_management', 'Job_Category_retired',\n",
    "       'Job_Category_self-employed', 'Job_Category_services',\n",
    "       'Job_Category_student', 'Job_Category_technician',\n",
    "       'Job_Category_unemployed', 'Job_Category_unknown',\n",
    "       'Credit_Default_no', 'Credit_Default_yes', 'House_Loan_no',\n",
    "       'House_Loan_yes', 'Personal_Loan_no', 'Personal_Loan_yes',\n",
    "       'Contact_Type_landline', 'Contact_Type_mobile',\n",
    "       'Contact_Type_other', 'POutcome_failure', 'POutcome_notApplicable',\n",
    "       'POutcome_success'] \n",
    "X=data_final[cols]\n",
    "y=data_final[ 'Subscribed']"
   ]
  },
  {
   "cell_type": "code",
   "execution_count": 40,
   "metadata": {
    "collapsed": false
   },
   "outputs": [
    {
     "name": "stderr",
     "output_type": "stream",
     "text": [
      "G:\\Misc\\Anaconda\\lib\\site-packages\\sklearn\\cross_validation.py:44: DeprecationWarning: This module was deprecated in version 0.18 in favor of the model_selection module into which all the refactored classes and functions are moved. Also note that the interface of the new CV iterators are different from that of this module. This module will be removed in 0.20.\n",
      "  \"This module will be removed in 0.20.\", DeprecationWarning)\n"
     ]
    }
   ],
   "source": [
    "from sklearn import preprocessing\n",
    "from sklearn.linear_model import LogisticRegression\n",
    "from sklearn.cross_validation import train_test_split"
   ]
  },
  {
   "cell_type": "markdown",
   "metadata": {},
   "source": [
    "###  Evaluate the model by splitting into train and test sets"
   ]
  },
  {
   "cell_type": "code",
   "execution_count": 41,
   "metadata": {
    "collapsed": false,
    "scrolled": true
   },
   "outputs": [
    {
     "data": {
      "text/plain": [
       "LogisticRegression(C=1.0, class_weight=None, dual=False, fit_intercept=True,\n",
       "          intercept_scaling=1, max_iter=100, multi_class='ovr', n_jobs=1,\n",
       "          penalty='l2', random_state=None, solver='liblinear', tol=0.0001,\n",
       "          verbose=0, warm_start=False)"
      ]
     },
     "execution_count": 41,
     "metadata": {},
     "output_type": "execute_result"
    }
   ],
   "source": [
    "X_train, X_test, y_train, y_test = train_test_split(X, y, test_size=0.3, random_state=0)\n",
    "from sklearn.linear_model import LogisticRegression\n",
    "from sklearn import metrics\n",
    "model = LogisticRegression()\n",
    "model.fit(X_train, y_train)"
   ]
  },
  {
   "cell_type": "markdown",
   "metadata": {},
   "source": [
    "### Predict class labels for the test set"
   ]
  },
  {
   "cell_type": "code",
   "execution_count": 42,
   "metadata": {
    "collapsed": false,
    "scrolled": true
   },
   "outputs": [
    {
     "name": "stdout",
     "output_type": "stream",
     "text": [
      "[0 1 0 ..., 0 0 0]\n"
     ]
    }
   ],
   "source": [
    "y_pred = model.predict(X_test)\n",
    "print (y_pred)"
   ]
  },
  {
   "cell_type": "markdown",
   "metadata": {},
   "source": [
    "### Generate class probabilities"
   ]
  },
  {
   "cell_type": "code",
   "execution_count": 43,
   "metadata": {
    "collapsed": false,
    "scrolled": true
   },
   "outputs": [
    {
     "name": "stdout",
     "output_type": "stream",
     "text": [
      "[[ 0.99262854  0.00737146]\n",
      " [ 0.30188088  0.69811912]\n",
      " [ 0.97460534  0.02539466]\n",
      " ..., \n",
      " [ 0.99287561  0.00712439]\n",
      " [ 0.94184998  0.05815002]\n",
      " [ 0.95183455  0.04816545]]\n"
     ]
    }
   ],
   "source": [
    "probs = model.predict_proba(X_test)\n",
    "print (probs)"
   ]
  },
  {
   "cell_type": "markdown",
   "metadata": {},
   "source": [
    "### Generate evaluation metrics"
   ]
  },
  {
   "cell_type": "code",
   "execution_count": 44,
   "metadata": {
    "collapsed": false
   },
   "outputs": [
    {
     "name": "stdout",
     "output_type": "stream",
     "text": [
      "0.8967118844\n",
      "0.878935578353\n"
     ]
    }
   ],
   "source": [
    "print (metrics.accuracy_score(y_test, y_pred))\n",
    "print (metrics.roc_auc_score(y_test, probs[:, 1]))"
   ]
  },
  {
   "cell_type": "markdown",
   "metadata": {},
   "source": [
    "### Generate confusion metrics"
   ]
  },
  {
   "cell_type": "code",
   "execution_count": 45,
   "metadata": {
    "collapsed": false,
    "scrolled": true
   },
   "outputs": [
    {
     "name": "stdout",
     "output_type": "stream",
     "text": [
      "[[11657   312]\n",
      " [ 1089   506]]\n",
      "             precision    recall  f1-score   support\n",
      "\n",
      "          0       0.91      0.97      0.94     11969\n",
      "          1       0.62      0.32      0.42      1595\n",
      "\n",
      "avg / total       0.88      0.90      0.88     13564\n",
      "\n"
     ]
    }
   ],
   "source": [
    "print (metrics.confusion_matrix(y_test, y_pred))\n",
    "print (metrics.classification_report(y_test, y_pred))"
   ]
  },
  {
   "cell_type": "markdown",
   "metadata": {},
   "source": [
    "## Now lets make predictions"
   ]
  },
  {
   "cell_type": "markdown",
   "metadata": {},
   "source": [
    "### Example 1 : We want to predict whether a customer with the following details will subscribe for a term deposit?\n",
    "\n",
    "'Age' - 25\n",
    "'Balance[Euro]' - 4000\n",
    "'Duration(Sec)' - 300\n",
    "'No_of_Contacts' - 2,\n",
    "'Passed_Days' - -1, \n",
    "'No.ContactsBefore'- 0,\n",
    "'Education_primary' - 0\n",
    "'Education_secondary' - 1, \n",
    "'Education_tertiary' - 0,\n",
    "'Education_unknown' - 0,\n",
    "'Marital_Status_divorced' - 1,\n",
    "'Marital_Status_married' - 0, \n",
    "'Marital_Status_single' - 0,\n",
    "'Job_Category_admin.' - 0,\n",
    "'Job_Category_blue-collar' - 1,\n",
    "'Job_Category_entrepreneur' - 0,\n",
    "'Job_Category_housemaid' - 0,\n",
    "'Job_Category_management' - 0,\n",
    "'Job_Category_retired' - 0,\n",
    "'Job_Category_self-employed' - 0, \n",
    "'Job_Category_services' - 0,\n",
    "'Job_Category_student' - 0, \n",
    "'Job_Category_technician' - 0,\n",
    "'Job_Category_unemployed' -  0,\n",
    "'Job_Category_unknown' - 0,\n",
    "'Credit_Default_no' - 1, \n",
    "'Credit_Default_yes' - 0,\n",
    "'House_Loan_no' - 0,\n",
    "'House_Loan_yes' - 1, \n",
    "'Personal_Loan_no' - 0,\n",
    "'Personal_Loan_yes' - 1,\n",
    "'Contact_Type_landline' - 1,\n",
    "'Contact_Type_mobile' - 0,\n",
    "'Contact_Type_other' - 0, \n",
    "'POutcome_failure'-0,\n",
    "'POutcome_nonexistent' - 1,\n",
    "'POutcome_success'- 0\n"
   ]
  },
  {
   "cell_type": "code",
   "execution_count": 47,
   "metadata": {
    "collapsed": false
   },
   "outputs": [
    {
     "data": {
      "text/plain": [
       "array([[ 0.96665697,  0.03334303]])"
      ]
     },
     "execution_count": 47,
     "metadata": {},
     "output_type": "execute_result"
    }
   ],
   "source": [
    "model.predict_proba([[25,4000,300,2,-1,0,0,1,0,0,1,0,0,0,1,0,0,0,0,0,0,0,0,0,0,1,0,0,1,0,1,1,0,0,0,1,0]])"
   ]
  },
  {
   "cell_type": "markdown",
   "metadata": {},
   "source": [
    "So the above values mean that the probability that the person will subscribe to the term deposit is 0.03."
   ]
  },
  {
   "cell_type": "code",
   "execution_count": 48,
   "metadata": {
    "collapsed": false
   },
   "outputs": [
    {
     "data": {
      "text/plain": [
       "array([0], dtype=int64)"
      ]
     },
     "execution_count": 48,
     "metadata": {},
     "output_type": "execute_result"
    }
   ],
   "source": [
    "## Thus it can be predicted that the customer will not subscribe for the term deposit.\n",
    "model.predict([[25,4000,300,2,-1,0,0,1,0,0,1,0,0,0,1,0,0,0,0,0,0,0,0,0,0,1,0,0,1,0,1,1,0,0,0,1,0]])"
   ]
  },
  {
   "cell_type": "markdown",
   "metadata": {},
   "source": [
    "### Example 2: We want to predict whether a customer with the following details will subscribe for a term deposit?\n",
    "\n",
    "'Age' - 40\n",
    "'Balance[Euro]' - 5000\n",
    "'Duration(Sec)' - 400\n",
    "'No_of_Contacts' - 2,\n",
    "'Passed_Days' - 8, \n",
    "'No.ContactsBefore'- 50,\n",
    "'Education_primary' - 0,\n",
    "'Education_secondary' - 1, \n",
    "'Education_tertiary' - 0,\n",
    "'Education_unknown' - 0,\n",
    "'Marital_Status_divorced' - 0,\n",
    "'Marital_Status_married' - 1, \n",
    "'Marital_Status_single' - 0,\n",
    "'Job_Category_admin.' - 0,\n",
    "'Job_Category_blue-collar' - 1,\n",
    "'Job_Category_entrepreneur' - 0,\n",
    "'Job_Category_housemaid' - 0,\n",
    "'Job_Category_management' - 0,\n",
    "'Job_Category_retired' - 0,\n",
    "'Job_Category_self-employed' - 0, \n",
    "'Job_Category_services' - 0,\n",
    "'Job_Category_student' - 0, \n",
    "'Job_Category_technician' - 0,\n",
    "'Job_Category_unemployed' -  0,\n",
    "'Job_Category_unknown' - 0,\n",
    "'Credit_Default_no' - 1, \n",
    "'Credit_Default_yes' - 0,\n",
    "'House_Loan_no' - 1,\n",
    "'House_Loan_yes' - 0, \n",
    "'Personal_Loan_no' - 1,\n",
    "'Personal_Loan_yes' - 0,\n",
    "'Contact_Type_landline' - 0,\n",
    "'Contact_Type_mobile' - 1,\n",
    "'Contact_Type_other' - 0, \n",
    "'POutcome_failure'-0,\n",
    "'POutcome_nonexistent' - 0,\n",
    "'POutcome_success'- 1"
   ]
  },
  {
   "cell_type": "code",
   "execution_count": 49,
   "metadata": {
    "collapsed": false
   },
   "outputs": [
    {
     "data": {
      "text/plain": [
       "array([[ 0.17009127,  0.82990873]])"
      ]
     },
     "execution_count": 49,
     "metadata": {},
     "output_type": "execute_result"
    }
   ],
   "source": [
    "model.predict_proba([[40,5000,400,2,8,50,0,1,0,0,0,1,0,0,1,0,0,0,0,0,0,0,0,0,0,1,0,1,0,1,0,0,1,0,0,0,1]])"
   ]
  },
  {
   "cell_type": "markdown",
   "metadata": {},
   "source": [
    "So the above values mean that the probability that the person will subscribe to the term deposit is 0.829"
   ]
  },
  {
   "cell_type": "code",
   "execution_count": 50,
   "metadata": {
    "collapsed": false
   },
   "outputs": [
    {
     "data": {
      "text/plain": [
       "array([1], dtype=int64)"
      ]
     },
     "execution_count": 50,
     "metadata": {},
     "output_type": "execute_result"
    }
   ],
   "source": [
    "#Thus it can be predicted that the customer will subscribe for the term deposit.\n",
    "model.predict([[40,5000,400,2,8,50,0,1,0,0,0,1,0,0,1,0,0,0,0,0,0,0,0,0,0,1,0,1,0,1,0,0,1,0,0,0,1]])"
   ]
  }
 ],
 "metadata": {
  "kernelspec": {
   "display_name": "Python 3",
   "language": "python",
   "name": "python3"
  },
  "language_info": {
   "codemirror_mode": {
    "name": "ipython",
    "version": 3
   },
   "file_extension": ".py",
   "mimetype": "text/x-python",
   "name": "python",
   "nbconvert_exporter": "python",
   "pygments_lexer": "ipython3",
   "version": "3.6.0"
  }
 },
 "nbformat": 4,
 "nbformat_minor": 2
}
